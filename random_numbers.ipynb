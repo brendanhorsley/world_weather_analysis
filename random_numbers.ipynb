{
 "cells": [
  {
   "cell_type": "code",
   "execution_count": 1,
   "id": "a2aab7d3",
   "metadata": {},
   "outputs": [],
   "source": [
    "#import the random module\n",
    "import random"
   ]
  },
  {
   "cell_type": "code",
   "execution_count": 2,
   "id": "9b7ffa85",
   "metadata": {},
   "outputs": [
    {
     "data": {
      "text/plain": [
       "0.9130875636249837"
      ]
     },
     "execution_count": 2,
     "metadata": {},
     "output_type": "execute_result"
    }
   ],
   "source": [
    "random.random()"
   ]
  },
  {
   "cell_type": "code",
   "execution_count": 8,
   "id": "2d2db4c6",
   "metadata": {},
   "outputs": [
    {
     "data": {
      "text/plain": [
       "2"
      ]
     },
     "execution_count": 8,
     "metadata": {},
     "output_type": "execute_result"
    }
   ],
   "source": [
    "random.randint(0,10)"
   ]
  },
  {
   "cell_type": "code",
   "execution_count": 10,
   "id": "5cf614a1",
   "metadata": {},
   "outputs": [
    {
     "data": {
      "text/plain": [
       "[-53.550031563678964,\n",
       " -34.3290316671988,\n",
       " -71.86947168636033,\n",
       " -56.662432817235114,\n",
       " -45.72375944267258,\n",
       " -52.51433419391243,\n",
       " 73.02674596214119,\n",
       " 75.7446721146746,\n",
       " -21.973618041206034,\n",
       " -84.24598707151497]"
      ]
     },
     "execution_count": 10,
     "metadata": {},
     "output_type": "execute_result"
    }
   ],
   "source": [
    "x = 1\n",
    "latitudes = []\n",
    "while x < 11:\n",
    "    random_lat = random.randint(-90, 89) + random.random()\n",
    "    latitudes.append(random_lat)\n",
    "    x += 1\n",
    "    \n",
    "latitudes"
   ]
  },
  {
   "cell_type": "code",
   "execution_count": 11,
   "id": "3e415367",
   "metadata": {},
   "outputs": [],
   "source": [
    "import numpy as np"
   ]
  },
  {
   "cell_type": "code",
   "execution_count": 14,
   "id": "77adb110",
   "metadata": {},
   "outputs": [
    {
     "data": {
      "text/plain": [
       "array([ 68.55935637,   3.32004294,  82.63402601,   7.09704225,\n",
       "       -18.53713262,  63.97972119, -53.72010073,  86.94267383,\n",
       "        -5.07893655, -82.37202227, -67.41720859, -16.02436303,\n",
       "        36.3517597 , -81.33261763,  17.60575951,  -1.42756053,\n",
       "        66.32820637,  65.69239499,  39.84432886, -71.87618652,\n",
       "       -24.06055589, -82.83781124, -76.65317568, -87.57409465,\n",
       "        45.33257351,  44.06652293,   6.53301415,  -4.0291055 ,\n",
       "         2.05188613, -38.00117054,  -9.88782232, -67.81634061,\n",
       "       -59.45458112,  65.84422869, -48.69554518,  79.30727857,\n",
       "        33.28846184,  57.21607005])"
      ]
     },
     "execution_count": 14,
     "metadata": {},
     "output_type": "execute_result"
    }
   ],
   "source": [
    "np.random.uniform(-90.0000, 90.0000, size=38)"
   ]
  },
  {
   "cell_type": "code",
   "execution_count": 15,
   "id": "c8a1a768",
   "metadata": {},
   "outputs": [],
   "source": [
    "#import timeit to see how long code takes to run\n",
    "import timeit"
   ]
  },
  {
   "cell_type": "code",
   "execution_count": 16,
   "id": "b7680fef",
   "metadata": {},
   "outputs": [
    {
     "name": "stdout",
     "output_type": "stream",
     "text": [
      "9.9 µs ± 54.9 ns per loop (mean ± std. dev. of 7 runs, 100000 loops each)\n"
     ]
    }
   ],
   "source": [
    "%timeit np.random.uniform(-90.000, 90.000, size=1500)"
   ]
  },
  {
   "cell_type": "code",
   "execution_count": 17,
   "id": "a11d1642",
   "metadata": {},
   "outputs": [
    {
     "name": "stdout",
     "output_type": "stream",
     "text": [
      "1.15 ms ± 3.71 µs per loop (mean ± std. dev. of 7 runs, 1000 loops each)\n"
     ]
    }
   ],
   "source": [
    "def latitudes(size):\n",
    "    latitudes = []\n",
    "    x = 0\n",
    "    while x < (size):\n",
    "        random_lat = random.randint(-90, 90) + random.random()\n",
    "        latitudes.append(random_lat)\n",
    "        x += 1\n",
    "    return latitudes\n",
    "# Call the function with 1500.\n",
    "%timeit latitudes(1500)"
   ]
  },
  {
   "cell_type": "code",
   "execution_count": null,
   "id": "c3762066",
   "metadata": {},
   "outputs": [],
   "source": []
  }
 ],
 "metadata": {
  "kernelspec": {
   "display_name": "Python 3 (ipykernel)",
   "language": "python",
   "name": "python3"
  },
  "language_info": {
   "codemirror_mode": {
    "name": "ipython",
    "version": 3
   },
   "file_extension": ".py",
   "mimetype": "text/x-python",
   "name": "python",
   "nbconvert_exporter": "python",
   "pygments_lexer": "ipython3",
   "version": "3.7.11"
  }
 },
 "nbformat": 4,
 "nbformat_minor": 5
}
